{
 "cells": [
  {
   "cell_type": "code",
   "execution_count": null,
   "id": "gentle-roman",
   "metadata": {},
   "outputs": [],
   "source": [
    "from ifcb_jupyter_viewer import JupyterViewer"
   ]
  },
  {
   "cell_type": "code",
   "execution_count": null,
   "id": "deadly-margin",
   "metadata": {},
   "outputs": [],
   "source": [
    "viewer = JupyterViewer(\n",
    "    prob='/home/jovyan/shared/data/prob/D20220101T221311_IFCB114.prob.csv',\n",
    "    raw_dir='/home/jovyan/shared/data/raw/',\n",
    "    thresholds='/home/jovyan/shared/thresholds-2023.txt',\n",
    "    mode='evaluate'\n",
    ")"
   ]
  },
  {
   "cell_type": "code",
   "execution_count": null,
   "id": "empty-pendant",
   "metadata": {
    "scrolled": false
   },
   "outputs": [],
   "source": [
    "viewer.open(sort_by='confidence')"
   ]
  }
 ],
 "metadata": {
  "kernelspec": {
   "display_name": "Python 3 (ipykernel)",
   "language": "python",
   "name": "python3"
  },
  "language_info": {
   "codemirror_mode": {
    "name": "ipython",
    "version": 3
   },
   "file_extension": ".py",
   "mimetype": "text/x-python",
   "name": "python",
   "nbconvert_exporter": "python",
   "pygments_lexer": "ipython3",
   "version": "3.10.4+"
  }
 },
 "nbformat": 4,
 "nbformat_minor": 5
}
