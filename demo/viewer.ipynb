{
 "cells": [
  {
   "cell_type": "code",
   "execution_count": null,
   "id": "gentle-roman",
   "metadata": {},
   "outputs": [],
   "source": [
    "from ifcb_jupyter_viewer import JupyterViewer"
   ]
  },
  {
   "cell_type": "code",
   "execution_count": null,
   "id": "deadly-margin",
   "metadata": {},
   "outputs": [],
   "source": [
    "viewer = JupyterViewer(\n",
    "    prob='/home/jovyan/shared/data/prob/D20220326T083839_IFCB114.prob.csv',\n",
    "    raw_dir='/home/jovyan/shared/data/raw/',\n",
    "    thresholds='/home/jovyan/shared/thresholds-2023.txt',\n",
    "    mode='evaluate'\n",
    ")"
   ]
  },
  {
   "cell_type": "code",
   "execution_count": null,
   "id": "empty-pendant",
   "metadata": {},
   "outputs": [],
   "source": [
    "viewer.open(sort_by='confidence')"
   ]
  },
  {
   "cell_type": "code",
   "execution_count": null,
   "id": "69d86f94-eab1-4c1f-bad8-e67bd68e0603",
   "metadata": {},
   "outputs": [],
   "source": [
    "viewer.current_page += 1\n",
    "viewer._show_current_page()"
   ]
  }
 ],
 "metadata": {
  "kernelspec": {
   "display_name": "Python 3 (ipykernel)",
   "language": "python",
   "name": "python3"
  },
  "language_info": {
   "codemirror_mode": {
    "name": "ipython",
    "version": 3
   },
   "file_extension": ".py",
   "mimetype": "text/x-python",
   "name": "python",
   "nbconvert_exporter": "python",
   "pygments_lexer": "ipython3",
   "version": "3.9.12"
  }
 },
 "nbformat": 4,
 "nbformat_minor": 5
}
